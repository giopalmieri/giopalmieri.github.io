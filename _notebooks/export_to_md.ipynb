{
 "cells": [
  {
   "cell_type": "code",
   "execution_count": 3,
   "metadata": {},
   "outputs": [],
   "source": [
    "import nbformat\n",
    "from nbconvert import MarkdownExporter\n",
    "import os\n",
    "import shutil\n",
    "\n",
    "def add_front_matter(markdown_filename, title):\n",
    "    front_matter = f\"\"\"---\n",
    "layout: post\n",
    "title: {title}\n",
    "description: Project {title}\n",
    "image: assets/images/pic11.jpg\n",
    "nav-menu: false\n",
    "---\n",
    "\n",
    "\"\"\"\n",
    "    with open(markdown_filename, 'r', encoding='utf-8') as f:\n",
    "        content = f.read()\n",
    "    \n",
    "    with open(markdown_filename, 'w', encoding='utf-8') as f:\n",
    "        f.write(front_matter + content)\n",
    "\n",
    "def convert_to_markdown(notebook_filename):\n",
    "    with open(notebook_filename, 'r', encoding='utf-8') as f:\n",
    "        notebook_content = nbformat.read(f, as_version=4)\n",
    "    markdown_exporter = MarkdownExporter()\n",
    "    markdown_content, resources = markdown_exporter.from_notebook_node(notebook_content)\n",
    "    \n",
    "    # Create folder named after the notebook\n",
    "    folder_name = notebook_filename.replace('.ipynb', '')\n",
    "    if not os.path.exists(folder_name):\n",
    "        os.makedirs(folder_name)\n",
    "    \n",
    "    # Write the markdown file inside the folder\n",
    "    markdown_filename = os.path.join(folder_name, 'index.md')\n",
    "    with open(markdown_filename, 'w', encoding='utf-8') as f:\n",
    "        f.write(markdown_content)\n",
    "    \n",
    "    # Save the PNG outputs\n",
    "    for output_filename, data in resources['outputs'].items():\n",
    "        output_path = os.path.join(folder_name, output_filename)\n",
    "        with open(output_path, 'wb') as f:\n",
    "            f.write(data)\n",
    "\n",
    "    add_front_matter(markdown_filename, notebook_filename.replace('.ipynb', ''))\n",
    "\n",
    "convert_to_markdown('fast-search-pandas.ipynb')\n"
   ]
  },
  {
   "cell_type": "code",
   "execution_count": null,
   "metadata": {},
   "outputs": [],
   "source": []
  }
 ],
 "metadata": {
  "kernelspec": {
   "display_name": "Python 3",
   "language": "python",
   "name": "python3"
  },
  "language_info": {
   "codemirror_mode": {
    "name": "ipython",
    "version": 3
   },
   "file_extension": ".py",
   "mimetype": "text/x-python",
   "name": "python",
   "nbconvert_exporter": "python",
   "pygments_lexer": "ipython3",
   "version": "3.9.0"
  }
 },
 "nbformat": 4,
 "nbformat_minor": 2
}
