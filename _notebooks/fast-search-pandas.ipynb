{
 "cells": [
  {
   "cell_type": "markdown",
   "id": "bed1be06",
   "metadata": {
    "_cell_guid": "b1076dfc-b9ad-4769-8c92-a6c4dae69d19",
    "_uuid": "8f2839f25d086af736a60e9eeb907d3b93b6e0e5",
    "papermill": {
     "duration": 0.004283,
     "end_time": "2023-10-13T03:26:00.007970",
     "exception": false,
     "start_time": "2023-10-13T03:26:00.003687",
     "status": "completed"
    },
    "tags": []
   },
   "source": [
    "**This notebook is designed to improve your skills to search specific data inside a pandas DataFrame.**\n",
    "\n",
    "Very often in Data Science you need to search individual values inside a DataFrame that is not possible to do inside a join/merge function.\n",
    "\n",
    "This notebook will help you.\n",
    "\n",
    "\n",
    "1. Searching inside column in pandas\n",
    "2. Searching inside index pandas\n",
    "3. Using numpy.where\n",
    "4. Using list(for index) and numpy(for data)\n",
    "5. Using list(for index) and list(for data)\n",
    "6. Using dictionary instead of lists and dataframes"
   ]
  },
  {
   "cell_type": "code",
   "execution_count": 1,
   "id": "bbfe015b",
   "metadata": {
    "execution": {
     "iopub.execute_input": "2023-10-13T03:26:00.016842Z",
     "iopub.status.busy": "2023-10-13T03:26:00.016068Z",
     "iopub.status.idle": "2023-10-13T03:26:01.073490Z",
     "shell.execute_reply": "2023-10-13T03:26:01.072341Z"
    },
    "papermill": {
     "duration": 1.064187,
     "end_time": "2023-10-13T03:26:01.075584",
     "exception": false,
     "start_time": "2023-10-13T03:26:00.011397",
     "status": "completed"
    },
    "tags": []
   },
   "outputs": [
    {
     "data": {
      "text/html": [
       "<div>\n",
       "<style scoped>\n",
       "    .dataframe tbody tr th:only-of-type {\n",
       "        vertical-align: middle;\n",
       "    }\n",
       "\n",
       "    .dataframe tbody tr th {\n",
       "        vertical-align: top;\n",
       "    }\n",
       "\n",
       "    .dataframe thead th {\n",
       "        text-align: right;\n",
       "    }\n",
       "</style>\n",
       "<table border=\"1\" class=\"dataframe\">\n",
       "  <thead>\n",
       "    <tr style=\"text-align: right;\">\n",
       "      <th></th>\n",
       "      <th>obs_id</th>\n",
       "      <th>library_id</th>\n",
       "      <th>plate_name</th>\n",
       "      <th>well</th>\n",
       "      <th>row</th>\n",
       "      <th>col</th>\n",
       "      <th>cell_id</th>\n",
       "      <th>donor_id</th>\n",
       "      <th>cell_type</th>\n",
       "      <th>sm_lincs_id</th>\n",
       "      <th>sm_name</th>\n",
       "      <th>SMILES</th>\n",
       "      <th>dose_uM</th>\n",
       "      <th>timepoint_hr</th>\n",
       "      <th>control</th>\n",
       "    </tr>\n",
       "  </thead>\n",
       "  <tbody>\n",
       "    <tr>\n",
       "      <th>0</th>\n",
       "      <td>000006a87ba75b72</td>\n",
       "      <td>library_4</td>\n",
       "      <td>plate_4</td>\n",
       "      <td>F7</td>\n",
       "      <td>F</td>\n",
       "      <td>7</td>\n",
       "      <td>PBMC</td>\n",
       "      <td>donor_2</td>\n",
       "      <td>T cells CD4+</td>\n",
       "      <td>LSM-4944</td>\n",
       "      <td>MLN 2238</td>\n",
       "      <td>CC(C)C[C@H](NC(=O)CNC(=O)c1cc(Cl)ccc1Cl)B(O)O</td>\n",
       "      <td>1.0</td>\n",
       "      <td>24</td>\n",
       "      <td>False</td>\n",
       "    </tr>\n",
       "    <tr>\n",
       "      <th>1</th>\n",
       "      <td>0000233976e3cd37</td>\n",
       "      <td>library_0</td>\n",
       "      <td>plate_3</td>\n",
       "      <td>D4</td>\n",
       "      <td>D</td>\n",
       "      <td>4</td>\n",
       "      <td>PBMC</td>\n",
       "      <td>donor_1</td>\n",
       "      <td>T cells CD4+</td>\n",
       "      <td>LSM-46203</td>\n",
       "      <td>BMS-265246</td>\n",
       "      <td>CCCCOc1c(C(=O)c2c(F)cc(C)cc2F)cnc2[nH]ncc12</td>\n",
       "      <td>1.0</td>\n",
       "      <td>24</td>\n",
       "      <td>False</td>\n",
       "    </tr>\n",
       "    <tr>\n",
       "      <th>2</th>\n",
       "      <td>0001533c5e876362</td>\n",
       "      <td>library_2</td>\n",
       "      <td>plate_0</td>\n",
       "      <td>B11</td>\n",
       "      <td>B</td>\n",
       "      <td>11</td>\n",
       "      <td>PBMC</td>\n",
       "      <td>donor_0</td>\n",
       "      <td>T regulatory cells</td>\n",
       "      <td>LSM-45663</td>\n",
       "      <td>Resminostat</td>\n",
       "      <td>CN(C)Cc1ccc(S(=O)(=O)n2ccc(/C=C/C(=O)NO)c2)cc1</td>\n",
       "      <td>1.0</td>\n",
       "      <td>24</td>\n",
       "      <td>False</td>\n",
       "    </tr>\n",
       "    <tr>\n",
       "      <th>3</th>\n",
       "      <td>00022f989630d14b</td>\n",
       "      <td>library_35</td>\n",
       "      <td>plate_2</td>\n",
       "      <td>E6</td>\n",
       "      <td>E</td>\n",
       "      <td>6</td>\n",
       "      <td>PBMC</td>\n",
       "      <td>donor_0</td>\n",
       "      <td>T cells CD4+</td>\n",
       "      <td>LSM-43216</td>\n",
       "      <td>FK 866</td>\n",
       "      <td>O=C(/C=C/c1cccnc1)NCCCCC1CCN(C(=O)c2ccccc2)CC1</td>\n",
       "      <td>1.0</td>\n",
       "      <td>24</td>\n",
       "      <td>False</td>\n",
       "    </tr>\n",
       "    <tr>\n",
       "      <th>4</th>\n",
       "      <td>0002560bd38ce03e</td>\n",
       "      <td>library_22</td>\n",
       "      <td>plate_4</td>\n",
       "      <td>B6</td>\n",
       "      <td>B</td>\n",
       "      <td>6</td>\n",
       "      <td>PBMC</td>\n",
       "      <td>donor_2</td>\n",
       "      <td>T cells CD4+</td>\n",
       "      <td>LSM-1099</td>\n",
       "      <td>Nilotinib</td>\n",
       "      <td>Cc1cn(-c2cc(NC(=O)c3ccc(C)c(Nc4nccc(-c5cccnc5)...</td>\n",
       "      <td>1.0</td>\n",
       "      <td>24</td>\n",
       "      <td>False</td>\n",
       "    </tr>\n",
       "  </tbody>\n",
       "</table>\n",
       "</div>"
      ],
      "text/plain": [
       "             obs_id  library_id plate_name well row  col cell_id donor_id  \\\n",
       "0  000006a87ba75b72   library_4    plate_4   F7   F    7    PBMC  donor_2   \n",
       "1  0000233976e3cd37   library_0    plate_3   D4   D    4    PBMC  donor_1   \n",
       "2  0001533c5e876362   library_2    plate_0  B11   B   11    PBMC  donor_0   \n",
       "3  00022f989630d14b  library_35    plate_2   E6   E    6    PBMC  donor_0   \n",
       "4  0002560bd38ce03e  library_22    plate_4   B6   B    6    PBMC  donor_2   \n",
       "\n",
       "            cell_type sm_lincs_id      sm_name  \\\n",
       "0        T cells CD4+    LSM-4944     MLN 2238   \n",
       "1        T cells CD4+   LSM-46203   BMS-265246   \n",
       "2  T regulatory cells   LSM-45663  Resminostat   \n",
       "3        T cells CD4+   LSM-43216       FK 866   \n",
       "4        T cells CD4+    LSM-1099    Nilotinib   \n",
       "\n",
       "                                              SMILES  dose_uM  timepoint_hr  \\\n",
       "0      CC(C)C[C@H](NC(=O)CNC(=O)c1cc(Cl)ccc1Cl)B(O)O      1.0            24   \n",
       "1        CCCCOc1c(C(=O)c2c(F)cc(C)cc2F)cnc2[nH]ncc12      1.0            24   \n",
       "2     CN(C)Cc1ccc(S(=O)(=O)n2ccc(/C=C/C(=O)NO)c2)cc1      1.0            24   \n",
       "3     O=C(/C=C/c1cccnc1)NCCCCC1CCN(C(=O)c2ccccc2)CC1      1.0            24   \n",
       "4  Cc1cn(-c2cc(NC(=O)c3ccc(C)c(Nc4nccc(-c5cccnc5)...      1.0            24   \n",
       "\n",
       "   control  \n",
       "0    False  \n",
       "1    False  \n",
       "2    False  \n",
       "3    False  \n",
       "4    False  "
      ]
     },
     "execution_count": 1,
     "metadata": {},
     "output_type": "execute_result"
    }
   ],
   "source": [
    "#Load DataFrame\n",
    "import pandas as pd\n",
    "df=pd.read_csv(\"/kaggle/input/open-problems-single-cell-perturbations/adata_obs_meta.csv\")\n",
    "df.head()"
   ]
  },
  {
   "cell_type": "code",
   "execution_count": 2,
   "id": "96e82da3",
   "metadata": {
    "execution": {
     "iopub.execute_input": "2023-10-13T03:26:01.089276Z",
     "iopub.status.busy": "2023-10-13T03:26:01.088924Z",
     "iopub.status.idle": "2023-10-13T03:26:01.105341Z",
     "shell.execute_reply": "2023-10-13T03:26:01.104037Z"
    },
    "papermill": {
     "duration": 0.025788,
     "end_time": "2023-10-13T03:26:01.107513",
     "exception": false,
     "start_time": "2023-10-13T03:26:01.081725",
     "status": "completed"
    },
    "tags": []
   },
   "outputs": [
    {
     "data": {
      "text/html": [
       "<div>\n",
       "<style scoped>\n",
       "    .dataframe tbody tr th:only-of-type {\n",
       "        vertical-align: middle;\n",
       "    }\n",
       "\n",
       "    .dataframe tbody tr th {\n",
       "        vertical-align: top;\n",
       "    }\n",
       "\n",
       "    .dataframe thead th {\n",
       "        text-align: right;\n",
       "    }\n",
       "</style>\n",
       "<table border=\"1\" class=\"dataframe\">\n",
       "  <thead>\n",
       "    <tr style=\"text-align: right;\">\n",
       "      <th></th>\n",
       "      <th>obs_id</th>\n",
       "      <th>library_id</th>\n",
       "      <th>plate_name</th>\n",
       "      <th>well</th>\n",
       "      <th>row</th>\n",
       "      <th>col</th>\n",
       "      <th>cell_id</th>\n",
       "      <th>donor_id</th>\n",
       "      <th>cell_type</th>\n",
       "      <th>sm_lincs_id</th>\n",
       "      <th>sm_name</th>\n",
       "      <th>SMILES</th>\n",
       "      <th>dose_uM</th>\n",
       "      <th>timepoint_hr</th>\n",
       "      <th>control</th>\n",
       "    </tr>\n",
       "  </thead>\n",
       "  <tbody>\n",
       "    <tr>\n",
       "      <th>240085</th>\n",
       "      <td>ffff28f274e983df</td>\n",
       "      <td>library_27</td>\n",
       "      <td>plate_0</td>\n",
       "      <td>G12</td>\n",
       "      <td>G</td>\n",
       "      <td>12</td>\n",
       "      <td>PBMC</td>\n",
       "      <td>donor_0</td>\n",
       "      <td>NK cells</td>\n",
       "      <td>LSM-3349</td>\n",
       "      <td>Mometasone Furoate</td>\n",
       "      <td>C[C@@H]1C[C@H]2[C@@H]3CCC4=CC(=O)C=C[C@]4(C)[C...</td>\n",
       "      <td>1.0</td>\n",
       "      <td>24</td>\n",
       "      <td>False</td>\n",
       "    </tr>\n",
       "    <tr>\n",
       "      <th>240086</th>\n",
       "      <td>ffff32893af5befb</td>\n",
       "      <td>library_31</td>\n",
       "      <td>plate_4</td>\n",
       "      <td>E7</td>\n",
       "      <td>E</td>\n",
       "      <td>7</td>\n",
       "      <td>PBMC</td>\n",
       "      <td>donor_2</td>\n",
       "      <td>T cells CD4+</td>\n",
       "      <td>LSM-2287</td>\n",
       "      <td>Midostaurin</td>\n",
       "      <td>CO[C@@H]1[C@H](N(C)C(=O)c2ccccc2)C[C@H]2O[C@]1...</td>\n",
       "      <td>1.0</td>\n",
       "      <td>24</td>\n",
       "      <td>False</td>\n",
       "    </tr>\n",
       "    <tr>\n",
       "      <th>240087</th>\n",
       "      <td>ffff6c3e0a7b05ad</td>\n",
       "      <td>library_38</td>\n",
       "      <td>plate_1</td>\n",
       "      <td>C5</td>\n",
       "      <td>C</td>\n",
       "      <td>5</td>\n",
       "      <td>PBMC</td>\n",
       "      <td>donor_2</td>\n",
       "      <td>NK cells</td>\n",
       "      <td>LSM-45786</td>\n",
       "      <td>BAY 87-2243</td>\n",
       "      <td>Cc1cc(-c2nc(-c3ccc(OC(F)(F)F)cc3)no2)nn1Cc1ccn...</td>\n",
       "      <td>1.0</td>\n",
       "      <td>24</td>\n",
       "      <td>False</td>\n",
       "    </tr>\n",
       "    <tr>\n",
       "      <th>240088</th>\n",
       "      <td>ffff8e571c7e8cb0</td>\n",
       "      <td>library_28</td>\n",
       "      <td>plate_5</td>\n",
       "      <td>B1</td>\n",
       "      <td>B</td>\n",
       "      <td>1</td>\n",
       "      <td>PBMC</td>\n",
       "      <td>donor_1</td>\n",
       "      <td>B cells</td>\n",
       "      <td>LSM-43181</td>\n",
       "      <td>Belinostat</td>\n",
       "      <td>O=C(/C=C/c1cccc(S(=O)(=O)Nc2ccccc2)c1)NO</td>\n",
       "      <td>0.1</td>\n",
       "      <td>24</td>\n",
       "      <td>True</td>\n",
       "    </tr>\n",
       "    <tr>\n",
       "      <th>240089</th>\n",
       "      <td>ffffe67500d95d8d</td>\n",
       "      <td>library_9</td>\n",
       "      <td>plate_3</td>\n",
       "      <td>E1</td>\n",
       "      <td>E</td>\n",
       "      <td>1</td>\n",
       "      <td>PBMC</td>\n",
       "      <td>donor_1</td>\n",
       "      <td>Myeloid cells</td>\n",
       "      <td>LSM-43181</td>\n",
       "      <td>Belinostat</td>\n",
       "      <td>O=C(/C=C/c1cccc(S(=O)(=O)Nc2ccccc2)c1)NO</td>\n",
       "      <td>0.1</td>\n",
       "      <td>24</td>\n",
       "      <td>True</td>\n",
       "    </tr>\n",
       "  </tbody>\n",
       "</table>\n",
       "</div>"
      ],
      "text/plain": [
       "                  obs_id  library_id plate_name well row  col cell_id  \\\n",
       "240085  ffff28f274e983df  library_27    plate_0  G12   G   12    PBMC   \n",
       "240086  ffff32893af5befb  library_31    plate_4   E7   E    7    PBMC   \n",
       "240087  ffff6c3e0a7b05ad  library_38    plate_1   C5   C    5    PBMC   \n",
       "240088  ffff8e571c7e8cb0  library_28    plate_5   B1   B    1    PBMC   \n",
       "240089  ffffe67500d95d8d   library_9    plate_3   E1   E    1    PBMC   \n",
       "\n",
       "       donor_id      cell_type sm_lincs_id             sm_name  \\\n",
       "240085  donor_0       NK cells    LSM-3349  Mometasone Furoate   \n",
       "240086  donor_2   T cells CD4+    LSM-2287         Midostaurin   \n",
       "240087  donor_2       NK cells   LSM-45786         BAY 87-2243   \n",
       "240088  donor_1        B cells   LSM-43181          Belinostat   \n",
       "240089  donor_1  Myeloid cells   LSM-43181          Belinostat   \n",
       "\n",
       "                                                   SMILES  dose_uM  \\\n",
       "240085  C[C@@H]1C[C@H]2[C@@H]3CCC4=CC(=O)C=C[C@]4(C)[C...      1.0   \n",
       "240086  CO[C@@H]1[C@H](N(C)C(=O)c2ccccc2)C[C@H]2O[C@]1...      1.0   \n",
       "240087  Cc1cc(-c2nc(-c3ccc(OC(F)(F)F)cc3)no2)nn1Cc1ccn...      1.0   \n",
       "240088           O=C(/C=C/c1cccc(S(=O)(=O)Nc2ccccc2)c1)NO      0.1   \n",
       "240089           O=C(/C=C/c1cccc(S(=O)(=O)Nc2ccccc2)c1)NO      0.1   \n",
       "\n",
       "        timepoint_hr  control  \n",
       "240085            24    False  \n",
       "240086            24    False  \n",
       "240087            24    False  \n",
       "240088            24     True  \n",
       "240089            24     True  "
      ]
     },
     "execution_count": 2,
     "metadata": {},
     "output_type": "execute_result"
    }
   ],
   "source": [
    "df.tail()"
   ]
  },
  {
   "cell_type": "markdown",
   "id": "b7a0587c",
   "metadata": {
    "papermill": {
     "duration": 0.003676,
     "end_time": "2023-10-13T03:26:01.115477",
     "exception": false,
     "start_time": "2023-10-13T03:26:01.111801",
     "status": "completed"
    },
    "tags": []
   },
   "source": [
    "We are going to search inside variable obs_id for the exactly same value with some different methods and see which one is the best."
   ]
  },
  {
   "cell_type": "code",
   "execution_count": 3,
   "id": "5cd73c21",
   "metadata": {
    "execution": {
     "iopub.execute_input": "2023-10-13T03:26:01.125425Z",
     "iopub.status.busy": "2023-10-13T03:26:01.125003Z",
     "iopub.status.idle": "2023-10-13T03:26:09.902428Z",
     "shell.execute_reply": "2023-10-13T03:26:09.900623Z"
    },
    "papermill": {
     "duration": 8.785146,
     "end_time": "2023-10-13T03:26:09.904569",
     "exception": false,
     "start_time": "2023-10-13T03:26:01.119423",
     "status": "completed"
    },
    "tags": []
   },
   "outputs": [
    {
     "name": "stdout",
     "output_type": "stream",
     "text": [
      "12.5 ms ± 206 µs per loop (mean ± std. dev. of 7 runs, 100 loops each)\n"
     ]
    }
   ],
   "source": [
    "%%timeit -n 100\n",
    "#First method - Filtering your dataset\n",
    "\n",
    "df[df['obs_id']=='0002560bd38ce03e']"
   ]
  },
  {
   "cell_type": "markdown",
   "id": "297d6989",
   "metadata": {
    "papermill": {
     "duration": 0.003646,
     "end_time": "2023-10-13T03:26:09.912461",
     "exception": false,
     "start_time": "2023-10-13T03:26:09.908815",
     "status": "completed"
    },
    "tags": []
   },
   "source": [
    "Not bad, but I think we can improve this."
   ]
  },
  {
   "cell_type": "code",
   "execution_count": 4,
   "id": "bafd5088",
   "metadata": {
    "execution": {
     "iopub.execute_input": "2023-10-13T03:26:09.922534Z",
     "iopub.status.busy": "2023-10-13T03:26:09.921686Z",
     "iopub.status.idle": "2023-10-13T03:26:09.927757Z",
     "shell.execute_reply": "2023-10-13T03:26:09.927246Z"
    },
    "papermill": {
     "duration": 0.013345,
     "end_time": "2023-10-13T03:26:09.929613",
     "exception": false,
     "start_time": "2023-10-13T03:26:09.916268",
     "status": "completed"
    },
    "tags": []
   },
   "outputs": [],
   "source": [
    "#Set variable you need to search on index\n",
    "df.set_index('obs_id',inplace=True)"
   ]
  },
  {
   "cell_type": "markdown",
   "id": "74ba1279",
   "metadata": {
    "papermill": {
     "duration": 0.003687,
     "end_time": "2023-10-13T03:26:09.937690",
     "exception": false,
     "start_time": "2023-10-13T03:26:09.934003",
     "status": "completed"
    },
    "tags": []
   },
   "source": [
    "**set_index(column)** -> changes the index of the dataframe (use .head() to see what it looks like)\n",
    "**inplace=True** means that you are reffering to the same dataframe (df) to output the value.\n",
    "\n",
    "*it's the same as df=df.set_index('obs_id')*"
   ]
  },
  {
   "cell_type": "code",
   "execution_count": 5,
   "id": "c08b9b51",
   "metadata": {
    "execution": {
     "iopub.execute_input": "2023-10-13T03:26:09.947937Z",
     "iopub.status.busy": "2023-10-13T03:26:09.947409Z",
     "iopub.status.idle": "2023-10-13T03:26:10.023430Z",
     "shell.execute_reply": "2023-10-13T03:26:10.021548Z"
    },
    "papermill": {
     "duration": 0.083651,
     "end_time": "2023-10-13T03:26:10.025404",
     "exception": false,
     "start_time": "2023-10-13T03:26:09.941753",
     "status": "completed"
    },
    "tags": []
   },
   "outputs": [
    {
     "name": "stdout",
     "output_type": "stream",
     "text": [
      "The slowest run took 8.40 times longer than the fastest. This could mean that an intermediate result is being cached.\n",
      "99.2 µs ± 123 µs per loop (mean ± std. dev. of 7 runs, 100 loops each)\n"
     ]
    }
   ],
   "source": [
    "%%timeit -n 100\n",
    "#Second method - Searching using indexed dataframe\n",
    "df.loc['0002560bd38ce03e']"
   ]
  },
  {
   "cell_type": "markdown",
   "id": "fcfdb816",
   "metadata": {
    "papermill": {
     "duration": 0.003831,
     "end_time": "2023-10-13T03:26:10.033552",
     "exception": false,
     "start_time": "2023-10-13T03:26:10.029721",
     "status": "completed"
    },
    "tags": []
   },
   "source": [
    "What a great improvement, let's "
   ]
  },
  {
   "cell_type": "code",
   "execution_count": 6,
   "id": "e1dc8028",
   "metadata": {
    "execution": {
     "iopub.execute_input": "2023-10-13T03:26:10.042552Z",
     "iopub.status.busy": "2023-10-13T03:26:10.042118Z",
     "iopub.status.idle": "2023-10-13T03:26:10.105641Z",
     "shell.execute_reply": "2023-10-13T03:26:10.104274Z"
    },
    "papermill": {
     "duration": 0.070522,
     "end_time": "2023-10-13T03:26:10.107784",
     "exception": false,
     "start_time": "2023-10-13T03:26:10.037262",
     "status": "completed"
    },
    "tags": []
   },
   "outputs": [],
   "source": [
    "import numpy as np\n",
    "index=np.array(df.index)\n",
    "values=np.array(df.values)"
   ]
  },
  {
   "cell_type": "code",
   "execution_count": 7,
   "id": "70706195",
   "metadata": {
    "execution": {
     "iopub.execute_input": "2023-10-13T03:26:10.117964Z",
     "iopub.status.busy": "2023-10-13T03:26:10.117644Z",
     "iopub.status.idle": "2023-10-13T03:26:13.094391Z",
     "shell.execute_reply": "2023-10-13T03:26:13.093033Z"
    },
    "papermill": {
     "duration": 2.984038,
     "end_time": "2023-10-13T03:26:13.096348",
     "exception": false,
     "start_time": "2023-10-13T03:26:10.112310",
     "status": "completed"
    },
    "tags": []
   },
   "outputs": [
    {
     "name": "stdout",
     "output_type": "stream",
     "text": [
      "3.68 ms ± 17.9 µs per loop (mean ± std. dev. of 7 runs, 100 loops each)\n"
     ]
    }
   ],
   "source": [
    "%%timeit\n",
    "#Third method - Using numpy where\n",
    "np.where(index=='0002560bd38ce03e')"
   ]
  },
  {
   "cell_type": "code",
   "execution_count": 8,
   "id": "ef4ff830",
   "metadata": {
    "execution": {
     "iopub.execute_input": "2023-10-13T03:26:13.105994Z",
     "iopub.status.busy": "2023-10-13T03:26:13.105688Z",
     "iopub.status.idle": "2023-10-13T03:26:13.325455Z",
     "shell.execute_reply": "2023-10-13T03:26:13.324271Z"
    },
    "papermill": {
     "duration": 0.227195,
     "end_time": "2023-10-13T03:26:13.327893",
     "exception": false,
     "start_time": "2023-10-13T03:26:13.100698",
     "status": "completed"
    },
    "tags": []
   },
   "outputs": [],
   "source": [
    "list_index=list(index)\n",
    "list_values=values.tolist()"
   ]
  },
  {
   "cell_type": "code",
   "execution_count": 9,
   "id": "86d53265",
   "metadata": {
    "execution": {
     "iopub.execute_input": "2023-10-13T03:26:13.338534Z",
     "iopub.status.busy": "2023-10-13T03:26:13.338220Z",
     "iopub.status.idle": "2023-10-13T03:26:13.345529Z",
     "shell.execute_reply": "2023-10-13T03:26:13.343762Z"
    },
    "papermill": {
     "duration": 0.015363,
     "end_time": "2023-10-13T03:26:13.347949",
     "exception": false,
     "start_time": "2023-10-13T03:26:13.332586",
     "status": "completed"
    },
    "tags": []
   },
   "outputs": [
    {
     "data": {
      "text/plain": [
       "array(['library_22', 'plate_4', 'B6', 'B', 6, 'PBMC', 'donor_2',\n",
       "       'T cells CD4+', 'LSM-1099', 'Nilotinib',\n",
       "       'Cc1cn(-c2cc(NC(=O)c3ccc(C)c(Nc4nccc(-c5cccnc5)n4)c3)cc(C(F)(F)F)c2)cn1',\n",
       "       1.0, 24, False], dtype=object)"
      ]
     },
     "execution_count": 9,
     "metadata": {},
     "output_type": "execute_result"
    }
   ],
   "source": [
    "values[list_index.index('0002560bd38ce03e')]"
   ]
  },
  {
   "cell_type": "code",
   "execution_count": 10,
   "id": "857f8b9e",
   "metadata": {
    "execution": {
     "iopub.execute_input": "2023-10-13T03:26:13.358337Z",
     "iopub.status.busy": "2023-10-13T03:26:13.357960Z",
     "iopub.status.idle": "2023-10-13T03:26:28.446290Z",
     "shell.execute_reply": "2023-10-13T03:26:28.444980Z"
    },
    "papermill": {
     "duration": 15.095488,
     "end_time": "2023-10-13T03:26:28.447984",
     "exception": false,
     "start_time": "2023-10-13T03:26:13.352496",
     "status": "completed"
    },
    "tags": []
   },
   "outputs": [
    {
     "name": "stdout",
     "output_type": "stream",
     "text": [
      "184 ns ± 2.2 ns per loop (mean ± std. dev. of 7 runs, 10,000,000 loops each)\n"
     ]
    }
   ],
   "source": [
    "%%timeit\n",
    "#Fourth method - Index is inside list on python and the data is on numpy data\n",
    "values[list_index.index('0002560bd38ce03e')]"
   ]
  },
  {
   "cell_type": "code",
   "execution_count": 11,
   "id": "8da35ee7",
   "metadata": {
    "execution": {
     "iopub.execute_input": "2023-10-13T03:26:28.457985Z",
     "iopub.status.busy": "2023-10-13T03:26:28.457651Z",
     "iopub.status.idle": "2023-10-13T03:26:37.453202Z",
     "shell.execute_reply": "2023-10-13T03:26:37.451936Z"
    },
    "papermill": {
     "duration": 9.00323,
     "end_time": "2023-10-13T03:26:37.455672",
     "exception": false,
     "start_time": "2023-10-13T03:26:28.452442",
     "status": "completed"
    },
    "tags": []
   },
   "outputs": [
    {
     "name": "stdout",
     "output_type": "stream",
     "text": [
      "110 ns ± 0.491 ns per loop (mean ± std. dev. of 7 runs, 10,000,000 loops each)\n"
     ]
    }
   ],
   "source": [
    "%%timeit\n",
    "#Fifth method - Index is inside list on python and the data is on another list\n",
    "list_values[list_index.index('0002560bd38ce03e')]"
   ]
  },
  {
   "cell_type": "markdown",
   "id": "f5d4d0d2",
   "metadata": {
    "papermill": {
     "duration": 0.005225,
     "end_time": "2023-10-13T03:26:37.465732",
     "exception": false,
     "start_time": "2023-10-13T03:26:37.460507",
     "status": "completed"
    },
    "tags": []
   },
   "source": [
    "Is it the same value if we look for a random element in the list?"
   ]
  },
  {
   "cell_type": "code",
   "execution_count": 12,
   "id": "b0621509",
   "metadata": {
    "execution": {
     "iopub.execute_input": "2023-10-13T03:26:37.479802Z",
     "iopub.status.busy": "2023-10-13T03:26:37.479481Z",
     "iopub.status.idle": "2023-10-13T03:26:37.492791Z",
     "shell.execute_reply": "2023-10-13T03:26:37.491800Z"
    },
    "papermill": {
     "duration": 0.022142,
     "end_time": "2023-10-13T03:26:37.494833",
     "exception": false,
     "start_time": "2023-10-13T03:26:37.472691",
     "status": "completed"
    },
    "tags": []
   },
   "outputs": [
    {
     "data": {
      "text/plain": [
       "Index(['70611ad019b262a3'], dtype='object', name='obs_id')"
      ]
     },
     "execution_count": 12,
     "metadata": {},
     "output_type": "execute_result"
    }
   ],
   "source": [
    "df.sample(1).index"
   ]
  },
  {
   "cell_type": "code",
   "execution_count": 13,
   "id": "addcb732",
   "metadata": {
    "execution": {
     "iopub.execute_input": "2023-10-13T03:26:37.506844Z",
     "iopub.status.busy": "2023-10-13T03:26:37.506464Z",
     "iopub.status.idle": "2023-10-13T03:26:42.408708Z",
     "shell.execute_reply": "2023-10-13T03:26:42.407068Z"
    },
    "papermill": {
     "duration": 4.911276,
     "end_time": "2023-10-13T03:26:42.410923",
     "exception": false,
     "start_time": "2023-10-13T03:26:37.499647",
     "status": "completed"
    },
    "tags": []
   },
   "outputs": [
    {
     "name": "stdout",
     "output_type": "stream",
     "text": [
      "603 µs ± 4.27 µs per loop (mean ± std. dev. of 7 runs, 1,000 loops each)\n"
     ]
    }
   ],
   "source": [
    "%%timeit\n",
    "#Fifth method - Index is inside list on python and the data is on another list\n",
    "list_values[list_index.index('34dc16ad9c7050d7')]"
   ]
  },
  {
   "cell_type": "markdown",
   "id": "28f84b2d",
   "metadata": {
    "papermill": {
     "duration": 0.00392,
     "end_time": "2023-10-13T03:26:42.419450",
     "exception": false,
     "start_time": "2023-10-13T03:26:42.415530",
     "status": "completed"
    },
    "tags": []
   },
   "source": [
    "Let's review the second method with the same index"
   ]
  },
  {
   "cell_type": "code",
   "execution_count": 14,
   "id": "5c9f9fa1",
   "metadata": {
    "execution": {
     "iopub.execute_input": "2023-10-13T03:26:42.429348Z",
     "iopub.status.busy": "2023-10-13T03:26:42.429034Z",
     "iopub.status.idle": "2023-10-13T03:26:42.474157Z",
     "shell.execute_reply": "2023-10-13T03:26:42.472957Z"
    },
    "papermill": {
     "duration": 0.052781,
     "end_time": "2023-10-13T03:26:42.476449",
     "exception": false,
     "start_time": "2023-10-13T03:26:42.423668",
     "status": "completed"
    },
    "tags": []
   },
   "outputs": [
    {
     "name": "stdout",
     "output_type": "stream",
     "text": [
      "56.2 µs ± 8.41 µs per loop (mean ± std. dev. of 7 runs, 100 loops each)\n"
     ]
    }
   ],
   "source": [
    "%%timeit -n 100\n",
    "#Second method - Searching using indexed dataframe\n",
    "df.loc['34dc16ad9c7050d7']"
   ]
  },
  {
   "cell_type": "markdown",
   "id": "eeac0588",
   "metadata": {
    "papermill": {
     "duration": 0.004696,
     "end_time": "2023-10-13T03:26:42.486264",
     "exception": false,
     "start_time": "2023-10-13T03:26:42.481568",
     "status": "completed"
    },
    "tags": []
   },
   "source": [
    "For the random sample the second method is beating the fifth method"
   ]
  },
  {
   "cell_type": "code",
   "execution_count": 15,
   "id": "78523b8b",
   "metadata": {
    "execution": {
     "iopub.execute_input": "2023-10-13T03:26:42.496681Z",
     "iopub.status.busy": "2023-10-13T03:26:42.496402Z",
     "iopub.status.idle": "2023-10-13T03:26:43.877301Z",
     "shell.execute_reply": "2023-10-13T03:26:43.876419Z"
    },
    "papermill": {
     "duration": 1.388324,
     "end_time": "2023-10-13T03:26:43.879319",
     "exception": false,
     "start_time": "2023-10-13T03:26:42.490995",
     "status": "completed"
    },
    "tags": []
   },
   "outputs": [],
   "source": [
    "dict_df=df.to_dict(orient='index')"
   ]
  },
  {
   "cell_type": "code",
   "execution_count": 16,
   "id": "51341379",
   "metadata": {
    "execution": {
     "iopub.execute_input": "2023-10-13T03:26:43.890107Z",
     "iopub.status.busy": "2023-10-13T03:26:43.889775Z",
     "iopub.status.idle": "2023-10-13T03:26:46.399061Z",
     "shell.execute_reply": "2023-10-13T03:26:46.398324Z"
    },
    "papermill": {
     "duration": 2.516371,
     "end_time": "2023-10-13T03:26:46.400638",
     "exception": false,
     "start_time": "2023-10-13T03:26:43.884267",
     "status": "completed"
    },
    "tags": []
   },
   "outputs": [
    {
     "name": "stdout",
     "output_type": "stream",
     "text": [
      "30.9 ns ± 0.808 ns per loop (mean ± std. dev. of 7 runs, 10,000,000 loops each)\n"
     ]
    }
   ],
   "source": [
    "%%timeit\n",
    "#Sixth method - Using dictionary instead of lists and dataframes\n",
    "dict_df['34dc16ad9c7050d7']"
   ]
  },
  {
   "cell_type": "code",
   "execution_count": 17,
   "id": "a346585d",
   "metadata": {
    "execution": {
     "iopub.execute_input": "2023-10-13T03:26:46.411240Z",
     "iopub.status.busy": "2023-10-13T03:26:46.410737Z",
     "iopub.status.idle": "2023-10-13T03:26:49.793116Z",
     "shell.execute_reply": "2023-10-13T03:26:49.791766Z"
    },
    "papermill": {
     "duration": 3.390458,
     "end_time": "2023-10-13T03:26:49.795843",
     "exception": false,
     "start_time": "2023-10-13T03:26:46.405385",
     "status": "completed"
    },
    "tags": []
   },
   "outputs": [
    {
     "name": "stdout",
     "output_type": "stream",
     "text": [
      "41.8 ns ± 2.4 ns per loop (mean ± std. dev. of 7 runs, 10,000,000 loops each)\n"
     ]
    }
   ],
   "source": [
    "%%timeit\n",
    "#Comparing with get function of dictionaries does not improve\n",
    "dict_df.get('34dc16ad9c7050d7')"
   ]
  },
  {
   "cell_type": "markdown",
   "id": "84a82719",
   "metadata": {
    "papermill": {
     "duration": 0.005098,
     "end_time": "2023-10-13T03:26:49.805742",
     "exception": false,
     "start_time": "2023-10-13T03:26:49.800644",
     "status": "completed"
    },
    "tags": []
   },
   "source": [
    "**Conclusion**\n",
    "\n",
    "If you convert your dataframe for a dictionary and use the index as key, you can get 1000x faster lookup/search on your dataset.\n",
    "\n",
    "This is only useful if you have to search a lot of times to get the max optimization possible."
   ]
  },
  {
   "cell_type": "markdown",
   "id": "0718216b",
   "metadata": {
    "papermill": {
     "duration": 0.004185,
     "end_time": "2023-10-13T03:26:49.814777",
     "exception": false,
     "start_time": "2023-10-13T03:26:49.810592",
     "status": "completed"
    },
    "tags": []
   },
   "source": [
    "Below is all you need to use."
   ]
  },
  {
   "cell_type": "code",
   "execution_count": 18,
   "id": "ccbad626",
   "metadata": {
    "execution": {
     "iopub.execute_input": "2023-10-13T03:26:49.825046Z",
     "iopub.status.busy": "2023-10-13T03:26:49.824722Z",
     "iopub.status.idle": "2023-10-13T03:26:51.670993Z",
     "shell.execute_reply": "2023-10-13T03:26:51.670158Z"
    },
    "papermill": {
     "duration": 1.853449,
     "end_time": "2023-10-13T03:26:51.672513",
     "exception": false,
     "start_time": "2023-10-13T03:26:49.819064",
     "status": "completed"
    },
    "tags": []
   },
   "outputs": [
    {
     "data": {
      "text/plain": [
       "{'library_id': 'library_46',\n",
       " 'plate_name': 'plate_1',\n",
       " 'well': 'E6',\n",
       " 'row': 'E',\n",
       " 'col': 6,\n",
       " 'cell_id': 'PBMC',\n",
       " 'donor_id': 'donor_2',\n",
       " 'cell_type': 'T cells CD4+',\n",
       " 'sm_lincs_id': 'LSM-43216',\n",
       " 'sm_name': 'FK 866',\n",
       " 'SMILES': 'O=C(/C=C/c1cccnc1)NCCCCC1CCN(C(=O)c2ccccc2)CC1',\n",
       " 'dose_uM': 1.0,\n",
       " 'timepoint_hr': 24,\n",
       " 'control': False}"
      ]
     },
     "execution_count": 18,
     "metadata": {},
     "output_type": "execute_result"
    }
   ],
   "source": [
    "import pandas as pd\n",
    "\n",
    "#Load your dataset \n",
    "df=pd.read_csv(\"/kaggle/input/open-problems-single-cell-perturbations/adata_obs_meta.csv\")\n",
    "\n",
    "#Use the column (obs_id) that you want to search\n",
    "df.set_index('obs_id',inplace=True)\n",
    "\n",
    "#Create a dictionary of the dataframe\n",
    "dict_df=df.to_dict(orient='index')\n",
    "\n",
    "#Search\n",
    "dict_df['34dc16ad9c7050d7']"
   ]
  }
 ],
 "metadata": {
  "kernelspec": {
   "display_name": "Python 3",
   "language": "python",
   "name": "python3"
  },
  "language_info": {
   "codemirror_mode": {
    "name": "ipython",
    "version": 3
   },
   "file_extension": ".py",
   "mimetype": "text/x-python",
   "name": "python",
   "nbconvert_exporter": "python",
   "pygments_lexer": "ipython3",
   "version": "3.10.12"
  },
  "papermill": {
   "default_parameters": {},
   "duration": 54.768974,
   "end_time": "2023-10-13T03:26:52.197736",
   "environment_variables": {},
   "exception": null,
   "input_path": "__notebook__.ipynb",
   "output_path": "__notebook__.ipynb",
   "parameters": {},
   "start_time": "2023-10-13T03:25:57.428762",
   "version": "2.4.0"
  }
 },
 "nbformat": 4,
 "nbformat_minor": 5
}
